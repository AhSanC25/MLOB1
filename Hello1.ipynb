{
 "cells": [
  {
   "cell_type": "code",
   "execution_count": 1,
   "id": "c7213e05",
   "metadata": {},
   "outputs": [
    {
     "name": "stdout",
     "output_type": "stream",
     "text": [
      "[(1, 'a'), (2, 'b'), (3, 'c'), (4, 'd')]\n"
     ]
    }
   ],
   "source": [
    "list1 = [1, 2, 3,4]\n",
    "list2 = ['a', 'b', 'c', 'd']\n",
    "result = list(zip(list1, list2))\n",
    "print(result)"
   ]
  },
  {
   "cell_type": "code",
   "execution_count": 2,
   "id": "5acba02f",
   "metadata": {},
   "outputs": [
    {
     "data": {
      "text/plain": [
       "['1a', '2b', '3c', '4d']"
      ]
     },
     "execution_count": 2,
     "metadata": {},
     "output_type": "execute_result"
    }
   ],
   "source": [
    "list1 = [1, 2, 3,4]\n",
    "list2 = ['a', 'b', 'c', 'd']\n",
    "list3 = [str(list1[i]) + list2[i] for i in range(len(list1))]\n",
    "list3"
   ]
  },
  {
   "cell_type": "code",
   "execution_count": 3,
   "id": "ca482508",
   "metadata": {},
   "outputs": [
    {
     "name": "stdout",
     "output_type": "stream",
     "text": [
      "['Even', 'Odd', 'Even', 'Odd', 'Even']\n"
     ]
    }
   ],
   "source": [
    "nums = [10,15,20,25,30]\n",
    "result =[\"Even\" if i%2==0 else \"Odd\" for i in nums]\n",
    "print(result)"
   ]
  },
  {
   "cell_type": "code",
   "execution_count": 4,
   "id": "7f76c2af",
   "metadata": {},
   "outputs": [
    {
     "name": "stdout",
     "output_type": "stream",
     "text": [
      "['b', 'a', 'n']\n"
     ]
    },
    {
     "data": {
      "text/plain": [
       "{'b': 1, 'a': 3, 'n': 2}"
      ]
     },
     "execution_count": 4,
     "metadata": {},
     "output_type": "execute_result"
    }
   ],
   "source": [
    "text = 'banana'\n",
    "unique_characters = []\n",
    "for ch in text:\n",
    "    if ch not in unique_characters:\n",
    "        unique_characters.append(ch)\n",
    "print(unique_characters)\n",
    "character_frequency = {ch: text.count(ch) for ch in unique_characters}\n",
    "character_frequency"
   ]
  },
  {
   "cell_type": "code",
   "execution_count": 7,
   "id": "d2e86729",
   "metadata": {},
   "outputs": [
    {
     "data": {
      "text/plain": [
       "{'Ali': 85, 'Muhammad': 90, 'Ahmad': 75}"
      ]
     },
     "execution_count": 7,
     "metadata": {},
     "output_type": "execute_result"
    }
   ],
   "source": [
    "marks = {\"Ali\": 85, \"Muhammad\": 90, \"Ahmad\": 75, \"Zain\": 40}\n",
    "passed_students = {name: score for name, score in marks.items() if score >= 70}\n",
    "passed_students"
   ]
  },
  {
   "cell_type": "code",
   "execution_count": 8,
   "id": "e0723dbd",
   "metadata": {},
   "outputs": [
    {
     "name": "stdout",
     "output_type": "stream",
     "text": [
      "{1: 1, 2: 4, 3: 27, 4: 16, 5: 125, 6: 36, 7: 343, 8: 64, 9: 729, 10: 100}\n"
     ]
    }
   ],
   "source": [
    "result = {}\n",
    "for n in range(1, 11):\n",
    "    if n % 2 == 0:\n",
    "        result[n] = n ** 2\n",
    "    else:\n",
    "        result[n] = n ** 3\n",
    "print(result)"
   ]
  },
  {
   "cell_type": "code",
   "execution_count": null,
   "id": "331c4d42",
   "metadata": {},
   "outputs": [],
   "source": []
  }
 ],
 "metadata": {
  "kernelspec": {
   "display_name": ".venv (3.13.7)",
   "language": "python",
   "name": "python3"
  },
  "language_info": {
   "codemirror_mode": {
    "name": "ipython",
    "version": 3
   },
   "file_extension": ".py",
   "mimetype": "text/x-python",
   "name": "python",
   "nbconvert_exporter": "python",
   "pygments_lexer": "ipython3",
   "version": "3.13.7"
  }
 },
 "nbformat": 4,
 "nbformat_minor": 5
}
